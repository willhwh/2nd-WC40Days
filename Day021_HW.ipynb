{
 "cells": [
  {
   "cell_type": "markdown",
   "metadata": {},
   "source": [
    "# Ettoday 網路爬蟲實作練習\n",
    "\n",
    "\n",
    "* 能夠利用 Request + BeatifulSour 撰寫爬蟲，並存放到合適的資料結構\n"
   ]
  },
  {
   "cell_type": "markdown",
   "metadata": {},
   "source": [
    "## 作業目標\n",
    "\n",
    "根據範例：\n",
    "\n",
    "1. 取出今天所有的新聞\n",
    "2. 取出現在時間兩小時內的新聞\n",
    "3. 根據範例，取出三天前下午三點到五點的新聞"
   ]
  },
  {
   "cell_type": "markdown",
   "metadata": {},
   "source": [
    "## 1. 取出今天所有的新聞"
   ]
  },
  {
   "cell_type": "code",
   "execution_count": 5,
   "metadata": {},
   "outputs": [],
   "source": [
    "from selenium import webdriver\n",
    "from bs4 import BeautifulSoup\n",
    "import time\n",
    "from datetime import datetime,timedelta\n",
    "import pytz"
   ]
  },
  {
   "cell_type": "code",
   "execution_count": 40,
   "metadata": {},
   "outputs": [],
   "source": [
    "from selenium import webdriver\n",
    "from bs4 import BeautifulSoup\n",
    "browser = webdriver.Chrome(executable_path='chromedriver')\n",
    "my_date = datetime.now(pytz.timezone('Asia/Hong_Kong'))\n",
    "year=str(my_date.year)\n",
    "month=str(my_date.month)\n",
    "day=str(my_date.day)\n",
    "date=year+'-'+month+'-'+day\n",
    "date\n",
    "browser.get('https://www.ettoday.net/news/news-list-'+date+'-0.htm')"
   ]
  },
  {
   "cell_type": "code",
   "execution_count": 41,
   "metadata": {},
   "outputs": [],
   "source": [
    "import time\n",
    "for i in range(10): #10 times\n",
    "    time.sleep(2)\n",
    "    browser.execute_script(\"window.scrollTo(0, 10000);\")"
   ]
  },
  {
   "cell_type": "code",
   "execution_count": 42,
   "metadata": {},
   "outputs": [],
   "source": [
    "html_source = browser.page_source\n",
    "soup = BeautifulSoup(html_source, \"html5lib\")"
   ]
  },
  {
   "cell_type": "code",
   "execution_count": 43,
   "metadata": {
    "scrolled": true
   },
   "outputs": [
    {
     "name": "stdout",
     "output_type": "stream",
     "text": [
      "2020/03/20 04:04\t汽油狂降到台幣8元！美國加油站「比水便宜」　店員：庫存早就賣光\n",
      "2020/03/20 03:45\t不斷更新／美國確診人數「單日猛增40％」　旅遊警示升到最高：不要出國！\n",
      "2020/03/20 03:30\t不斷更新／義大利3405例死亡…超越中國大陸　單日暴增427例病逝\n",
      "2020/03/20 03:23\t肉搜台中小吃！冷凍芋配草莓奶油吐司　老台中的午茶標配\n",
      "2020/03/20 03:22\t快訊／金塊也傳新冠肺炎確診　NBA至今第8例\n",
      "2020/03/20 03:07\t高捷傳意外！紅線世運站女子「墜落軌道」被車廂輾過死亡\n",
      "2020/03/20 02:26\tNBA將關閉球隊訓練場館　建議球員留在球隊城市不允許離開北美\n",
      "2020/03/20 02:10\t弟想買玩具！大兒子斥責「你知道我們家已經沒錢了？」張國煒尷尬回應了\n",
      "2020/03/20 01:56\t回台17天突不舒服！國中生篩檢中　「北部某國中」該班緊急預防停課一天\n",
      "2020/03/20 01:43\t快訊／奪命堂哥落網！涉火攻1家4口燒死不婚孝女...疑吵架埋殺機\n",
      "2020/03/20 01:40\t日本J聯盟改制度！本季「只升不降」　J1下季增至20隊\n",
      "2020/03/20 01:38\t5女揪團健身　4天後2人收病危通知…原因竟是「教練說不要停」\n",
      "2020/03/20 01:27\t嬌蘭推出全新「珠寶級」唇膏彩殼，拿出來媲美時尚配件\n",
      "2020/03/20 01:16\t太妍、Irene改瘋「栗子棕」髮色！5款染完色澤超質感　不怕布丁頭過渡期\n",
      "2020/03/20 00:56\t英國疫情太嚴重　英超再延期！至少停到4月30日\n",
      "2020/03/20 00:51\t網路讓「鐵絲變長刀」　台南警感性勸人：先報案，再PO網，好嗎？\n",
      "2020/03/20 00:35\t女神卡卡化身全光機器人！　「側胸+蜜桃臀」高HD入鏡…網讚：只有Gaga能超越Gaga\n",
      "2020/03/20 00:24\t江蕙低調奔全聯「掃貨20包」　結帳回家發現GG了！\n",
      "2020/03/20 00:18\t《臉讚時代》李治勛「急性敗血症」驟逝！　7天前曾喊「一起撐下去」網淚崩\n",
      "2020/03/20 00:18\t牢記偉晉生日願望1年半！　邱鋒澤「送上驚喜禮物」：他當兵前就很想要\n",
      "2020/03/20 00:15\t癡情女遭「連開3槍」棄屍三峽　男友聲押…姊姊2萬交保\n",
      "2020/03/20 00:11\t疫情掃到要隔離？專家建議你自慰：可以提升免疫力哦！\n",
      "2020/03/20 00:10\t梁靜茹婚變後近況曝光！　親揭「未來新計劃」網嗨翻：期待\n",
      "2020/03/20 00:09\tKappa經典Logo變成魯夫與艾斯！背靠背設計，真正好朋友才能一起穿\n",
      "2020/03/20 00:07\tCBA／林書豪正式重返北京備戰　稱「全世界沒這麼需要籃球過」\n",
      "2020/03/20 00:07\tTRE台北國際成人展取消　紳士哀號：為了高橋死又何憾\n",
      "2020/03/20 00:06\t俄軍Mi-35直升機23公釐機砲走火　砲彈擊中公寓玻璃碎一地\n",
      "2020/03/20 00:05\t美軍連2天秀肌肉　派RC-135偵察機進入南海執行情蒐\n",
      "2020/03/20 00:05\t瑞康屋邀名廚辦舌尖上的櫻花季　粉紅親子派對連7天好康拿不完\n",
      "2020/03/20 00:00\tOPPO Find X2 Pro上手體驗　遠拍近攝都超美\n"
     ]
    }
   ],
   "source": [
    "for d in soup.find(class_='part_list_2').find_all('h3'):\n",
    "    if d.span.text[:10]=='2020/03/20':\n",
    "        print(d.span.text+'\\t'+d.find('a').text)"
   ]
  },
  {
   "cell_type": "code",
   "execution_count": 44,
   "metadata": {},
   "outputs": [],
   "source": [
    "# 關閉瀏覽器\n",
    "browser.quit();"
   ]
  },
  {
   "cell_type": "markdown",
   "metadata": {},
   "source": [
    "## 2. 取出現在時間兩小時內的新聞"
   ]
  },
  {
   "cell_type": "code",
   "execution_count": 152,
   "metadata": {},
   "outputs": [],
   "source": [
    "from datetime import datetime,timedelta\n",
    "import pytz"
   ]
  },
  {
   "cell_type": "code",
   "execution_count": 164,
   "metadata": {},
   "outputs": [
    {
     "data": {
      "text/plain": [
       "datetime.datetime(2020, 3, 20, 2, 23, 33, 568195, tzinfo=<DstTzInfo 'Asia/Hong_Kong' HKT+8:00:00 STD>)"
      ]
     },
     "execution_count": 164,
     "metadata": {},
     "output_type": "execute_result"
    }
   ],
   "source": [
    "my_time=datetime.now(pytz.timezone('Asia/Hong_Kong'))\n",
    "p2=my_time+timedelta(hours=-2)\n",
    "p2\n",
    "#p2.strptime(t, '%Y/%m/%d %H:%M')"
   ]
  },
  {
   "cell_type": "code",
   "execution_count": 165,
   "metadata": {},
   "outputs": [
    {
     "data": {
      "text/plain": [
       "(datetime.datetime(2020, 3, 20, 2, 23, 33, 568195, tzinfo=<DstTzInfo 'Asia/Hong_Kong' HKT+8:00:00 STD>),\n",
       " datetime.datetime(2020, 3, 20, 0, 0))"
      ]
     },
     "execution_count": 165,
     "metadata": {},
     "output_type": "execute_result"
    }
   ],
   "source": [
    "p2,t2"
   ]
  },
  {
   "cell_type": "code",
   "execution_count": 166,
   "metadata": {
    "scrolled": true
   },
   "outputs": [
    {
     "data": {
      "text/plain": [
       "False"
      ]
     },
     "execution_count": 166,
     "metadata": {},
     "output_type": "execute_result"
    }
   ],
   "source": [
    "p2.time()<t2.time()"
   ]
  },
  {
   "cell_type": "code",
   "execution_count": 156,
   "metadata": {},
   "outputs": [
    {
     "data": {
      "text/plain": [
       "datetime.datetime(2020, 3, 19, 18, 40)"
      ]
     },
     "execution_count": 156,
     "metadata": {},
     "output_type": "execute_result"
    }
   ],
   "source": [
    "t2=datetime.strptime(d.span.text, '%Y/%m/%d %H:%M')\n",
    "t2"
   ]
  },
  {
   "cell_type": "code",
   "execution_count": 157,
   "metadata": {},
   "outputs": [
    {
     "name": "stdout",
     "output_type": "stream",
     "text": [
      "2020/03/20 02:10\t弟想買玩具！大兒子斥責「你知道我們家已經沒錢了？」張國煒尷尬回應了\n",
      "2020/03/20 01:56\t回台17天突不舒服！國中生篩檢中　「北部某國中」該班緊急預防停課一天\n",
      "2020/03/20 01:43\t快訊／奪命堂哥落網！涉火攻1家4口燒死不婚孝女...疑吵架埋殺機\n",
      "2020/03/20 01:40\t日本J聯盟改制度！本季「只升不降」　J1下季增至20隊\n",
      "2020/03/20 01:38\t5女揪團健身　4天後2人收病危通知…原因竟是「教練說不要停」\n",
      "2020/03/20 01:27\t嬌蘭推出全新「珠寶級」唇膏彩殼，拿出來媲美時尚配件\n",
      "2020/03/20 01:26\t不斷更新／美國確診人數「單日猛增40％」　感染已經破萬人\n",
      "2020/03/20 01:16\t太妍、Irene改瘋「栗子棕」髮色！5款染完色澤超質感　不怕布丁頭過渡期\n",
      "2020/03/20 00:56\t英國疫情太嚴重　英超再延期！至少停到4月30日\n",
      "2020/03/20 00:51\t網路讓「鐵絲變長刀」　台南警感性勸人：先報案，再PO網，好嗎？\n",
      "2020/03/20 00:35\t女神卡卡化身全光機器人！　「側胸+蜜桃臀」高HD入鏡…網讚：只有Gaga能超越Gaga\n",
      "2020/03/20 00:24\t江蕙低調奔全聯「掃貨20包」　結帳回家發現GG了！\n",
      "2020/03/20 00:18\t《臉讚時代》李治勛「急性敗血症」驟逝！　7天前曾喊「一起撐下去」網淚崩\n",
      "2020/03/20 00:18\t牢記偉晉生日願望1年半！　邱鋒澤「送上驚喜禮物」：他當兵前就很想要\n",
      "2020/03/20 00:15\t癡情女遭「連開3槍」棄屍三峽　男友聲押…姊姊2萬交保\n",
      "2020/03/20 00:11\t疫情掃到要隔離？專家建議你自慰：可以提升免疫力哦！\n",
      "2020/03/20 00:10\t梁靜茹婚變後近況曝光！　親揭「未來新計劃」網嗨翻：期待\n",
      "2020/03/20 00:09\tKappa經典Logo變成魯夫與艾斯！背靠背設計，真正好朋友才能一起穿\n",
      "2020/03/20 00:07\tCBA／林書豪正式重返北京備戰　稱「全世界沒這麼需要籃球過」\n",
      "2020/03/20 00:07\tTRE台北國際成人展取消　紳士哀號：為了高橋死又何憾\n",
      "2020/03/20 00:06\t俄軍Mi-35直升機23公釐機砲走火　砲彈擊中公寓玻璃碎一地\n",
      "2020/03/20 00:05\t美軍連2天秀肌肉　派RC-135偵察機進入南海執行情蒐\n",
      "2020/03/20 00:05\t瑞康屋邀名廚辦舌尖上的櫻花季　粉紅親子派對連7天好康拿不完\n",
      "2020/03/20 00:00\tOPPO Find X2 Pro上手體驗　遠拍近攝都超美\n"
     ]
    }
   ],
   "source": [
    "for d in soup.find(class_='part_list_2').find_all('h3'):\n",
    "    if d.span.text[:10]=='2020/03/20':\n",
    "        t2=datetime.strptime(d.span.text, '%Y/%m/%d %H:%M')\n",
    "        if p2.time()>t2.time():\n",
    "            print(d.span.text+'\\t'+d.find('a').text)"
   ]
  },
  {
   "cell_type": "markdown",
   "metadata": {},
   "source": [
    "## 3. 根據範例，取出三天前下午三點到五點的新聞"
   ]
  },
  {
   "cell_type": "code",
   "execution_count": 27,
   "metadata": {},
   "outputs": [
    {
     "data": {
      "text/plain": [
       "datetime.datetime(2020, 3, 16, 15, 43, 2, 645813)"
      ]
     },
     "execution_count": 27,
     "metadata": {},
     "output_type": "execute_result"
    }
   ],
   "source": [
    "datetime.now()-timedelta(days=3)"
   ]
  },
  {
   "cell_type": "code",
   "execution_count": 28,
   "metadata": {},
   "outputs": [
    {
     "data": {
      "text/plain": [
       "'2020-03-17'"
      ]
     },
     "execution_count": 28,
     "metadata": {},
     "output_type": "execute_result"
    }
   ],
   "source": [
    "my_time=datetime.now(pytz.timezone('Asia/Hong_Kong'))\n",
    "p3d=my_time- timedelta(days=3)\n",
    "if len(str(p3d.month))<2:\n",
    "    month='0'+str(p3d.month)\n",
    "date=str(p3d.year)+'-'+str(month)+'-'+str(p3d.day)\n",
    "date"
   ]
  },
  {
   "cell_type": "code",
   "execution_count": 29,
   "metadata": {},
   "outputs": [],
   "source": [
    "browser = webdriver.Chrome(executable_path='chromedriver')\n",
    "browser.get('https://www.ettoday.net/news/news-list-'+date+'-0.htm')"
   ]
  },
  {
   "cell_type": "code",
   "execution_count": 30,
   "metadata": {},
   "outputs": [],
   "source": [
    "for i in range(40): #10 times\n",
    "    time.sleep(2)\n",
    "    browser.execute_script(\"window.scrollTo(0, 10000);\")\n",
    "    \n",
    "html_source = browser.page_source\n",
    "soup = BeautifulSoup(html_source, \"html5lib\")"
   ]
  },
  {
   "cell_type": "code",
   "execution_count": 39,
   "metadata": {},
   "outputs": [
    {
     "name": "stdout",
     "output_type": "stream",
     "text": [
      "2020/03/17 22:58\t水泥廠未作業　員工不慎啟動設備機台造成空污遭開罸\n",
      "2020/03/17 22:57\t「酸民文化必須一直存在！」　鍾明軒批過度保護：現代人太玻璃心\n",
      "2020/03/17 22:56\t獨／高雄恐怖2人組盯上幼稚園！隨機強開車門　家長嚇壞狂踩油門\n",
      "2020/03/17 22:53\t濃厚魚介拉麵首次登台　麵屋一燈四週年推3款新拉麵\n",
      "2020/03/17 22:52\t雷／《戀愛》佐藤健「壞壞眼神」：什麼都做了！　經典三吻戲撩功全開⋯網嗨：今晚睡不著！\n",
      "2020/03/17 22:45\t沒公布妻子懷孕「直接PO女兒出生」！　陳赫喜迎二胎：感謝所有的美好\n",
      "2020/03/17 22:37\t中職／不投沒必要壞球　江辰晏調整心態備戰\n",
      "2020/03/17 22:31\t銀行沒有鈔票？　中壢月眉「樹木銀行」闢建公園4月啟用\n",
      "2020/03/17 22:29\tO型血人群染新冠病毒風險較低！最新研究「這一型」相對易染\n",
      "2020/03/17 22:28\t張芸京「50萬粉絲一夜蒸發」！　10年心血全沒了…急PO文求救：我好難過\n",
      "2020/03/17 22:26\t女生討厭被顏射！　盤點「A片教壞我」9大迷思...口水當潤滑超NG\n",
      "2020/03/17 22:25\t歐國盃、美洲盃都將延至2021年6月　歐洲國家恐損失慘重　\n",
      "2020/03/17 22:19\t在家工作防疫卻慘遭毛同事毛手毛腳　網崩潰：一直被強迫握手\n",
      "2020/03/17 22:19\t中職／隱形失誤沒記錄　餅總賽後特別提醒\n",
      "2020/03/17 22:18\t質疑「台灣蓋牌」！陳時中罕見怒了　外國檢驗數據一比：打爆一堆國家好嗎\n",
      "2020/03/17 22:17\t肺炎衝擊「民眾搶買醫療保單」！壽險專家：理解轉嫁風險準則　用保險規劃財富傳承\n",
      "2020/03/17 22:16\t韓國瑜開直播談新店隨機殺人案　指「這五種人」絕對不能原諒！\n",
      "2020/03/17 22:13\t慢性攝護腺發炎　低能量體外震波治療有療效\n",
      "2020/03/17 22:08\t摩洛哥旅行團3/18、3/19等待機位離境　外交部研議派專機接回\n",
      "2020/03/17 22:06\t女碩士生與「確診病例」同場合　南部37名國立碩班學生停課2週\n",
      "2020/03/17 22:04\t快訊／道瓊早盤跌破「2萬點大關」！美股吐回漲幅…來回震盪\n",
      "2020/03/17 22:02\t心軟掩飾自卑／被恐怖情人趕出來待產　傻媽回去又被打\n",
      "2020/03/17 22:02\t《梨泰院class》金多美補妝鏡頭仙爆！擦的唇彩最早竟是為塗乳暈而設計\n",
      "2020/03/17 22:00\t同事堅持要出國！南投女傻眼狂勸…反被嗆：幹嘛那麼怕\n",
      "2020/03/17 21:50\t閃退AV界轉當網紅　園田美櫻曝當女優月賺85.8萬\n",
      "2020/03/17 21:49\t中國網上出現大量調侃文！官媒轟「注意吃相」：停止妖魔化外國抗疫\n",
      "2020/03/17 21:48\t快訊／菲律賓全境進入「災難狀態」！呂宋島20日關閉所有機場　禁國際航班出境\n",
      "2020/03/17 21:47\t精密公司曾姓男子拒繳所得稅5千餘萬元　行政執行署聲請管收獲准\n",
      "2020/03/17 21:47\t中職／潘傑楷逆轉2分彈　統一6比5險勝樂天\n",
      "2020/03/17 21:35\t快訊／美股開盤反彈！道瓊大漲超過400點　標普500指上漲3％\n",
      "2020/03/17 21:32\t男友瘋打手遊！　專家曝「小心機3招」奪回他的心...地雷話一說更慘\n",
      "2020/03/17 21:29\t高中以下師生禁出國挨批違憲　高嘉瑜：總統應頒緊急命令\n",
      "2020/03/17 21:23\t爸猛練棒式！2貓「窩背塞肚皮」熱心幫監督　網笑：快被壓扁了\n",
      "2020/03/17 21:20\t大專棒聯／南華去年6人選秀中選　阿甘：今年還沒成熟\n",
      "2020/03/17 21:20\t「和牛涮」主打極上和牛三吃！厚奶茶霜淇淋當甜點不要太完美\n",
      "2020/03/17 21:18\t川普發文再提「中國病毒」　嗆紐約州長不要趁機搞政治\n",
      "2020/03/17 21:16\t美型鬆餅機Vitantonio登台　14種烤盤讓家秒變甜點店\n",
      "2020/03/17 21:14\t視察口罩國家隊「瀧澤科技」　鄭文燦：4月上旬日產能達1300萬片\n",
      "2020/03/17 21:13\t駐歐代表處3點回應中國外館　上推特反駁一中政策\n",
      "2020/03/17 21:12\t韓國瑜宣布「電競賽照辦」！陳致中傻：根本豬隊長\n",
      "2020/03/17 21:08\t高嘉瑜籲提高出入境管制　故意前往疫區者自付檢疫、醫療費\n",
      "2020/03/17 21:07\t富商砸百萬美元買贗品　華盛頓聖經博物館16張死海古卷碎片全假的\n",
      "2020/03/17 21:06\t旅行社首發！因應疫情擴散...喜鴻假期全線4/30前「停止出團」\n",
      "2020/03/17 21:04\t太妍雙丸子頭回歸瞬間減齡！5款超嫩「花朵系編髮」，手殘也學得會\n",
      "2020/03/17 21:01\t義大利小鎮12天死70人　2019一整年只有120人死亡\n",
      "2020/03/17 21:00\t影／3Q哥 PK 小英發言人！「陳柏惟」用台語唸…泰翔秒答2字「高雄現在最流行？」\n",
      "2020/03/17 20:53\t不斷更新／巴西出現首例死亡！　「佛系」英國24hrs確診暴增26％\n",
      "2020/03/17 20:50\t中職／開幕戰再延後　曾豪駒：讓選手保持渴望\n",
      "2020/03/17 20:42\t藥頭拒捕踩油門衝撞！忘繫安全帶　沒撞到警察…他反遭玻璃碎片割傷\n",
      "2020/03/17 20:41\t李日貴砂石場去年鑽探採檢　重金屬「唯一超標點」…非李家承租地\n",
      "2020/03/17 20:39\t昔SARS病人…今「口罩國家隊」指揮官　鄭文燦臉書透露感人故事\n",
      "2020/03/17 20:30\t全美善遺作隔2年6個月上映　「女兒金昭誾」淚灑記者會：真的很傷心\n",
      "2020/03/17 20:29\t防疫衝業績　cama café推「寄杯優惠」88折　外送滿300元打9折\n",
      "2020/03/17 20:27\t播鳥音誘現身拍照擾生態　玉管處：是不是一種欺騙和疲勞轟炸\n",
      "2020/03/17 20:26\t疫情續燒！立委建議頒佈緊急命令　陳時中：還不到那情況\n",
      "2020/03/17 20:26\t抓到別放他走！「最穩重可靠」星座男Top4...霸氣獅子：赴湯蹈火都行\n",
      "2020/03/17 20:24\t疫情重創台股！　51家上市櫃公司祭庫藏股買回金額上看97億\n",
      "2020/03/17 20:24\t2度落跑！新北「盧禮勇」頻繁出國…咖啡廳內被尋獲\n",
      "2020/03/17 20:20\t范植偉突轉發王心凌影片：不該承擔的千萬不要！　頹廢蓄鬍「邊直播邊抽菸」畫面曝光\n",
      "2020/03/17 20:19\t郭台銘緊抱鴻海持股8個月不變　年後以來身家縮水277億元\n",
      "2020/03/17 20:17\t押人畫面曝！借款2萬「10天利息5千」扛不住　男被2兄弟押到焚化爐痛毆\n",
      "2020/03/17 20:16\t中職／蘇智傑陽春砲　統一4比3領先樂天\n",
      "2020/03/17 20:15\t德國官員：新冠肺炎疫情將持續2年　實際感染人數更高\n",
      "2020/03/17 20:09\t因應新冠肺炎疫情　金門大學祭4措施防群聚感染\n",
      "2020/03/17 20:08\t行政院前院長陳冲批評　紓困特別預算缺乏全面性\n",
      "2020/03/17 20:08\t影／股市何時能止跌？　專家教你從「這幾點」判斷\n",
      "2020/03/17 20:07\t日奧會副會長兼足協會長確診　首發聲明「還有點發燒但我很好」\n",
      "2020/03/17 20:05\t影／返京後拒隔離「出門跑步」...還氣炸嗆要找領導！澳籍華人被公司開除\n",
      "2020/03/17 20:04\t裝修老屋用錯油漆竟「撞鬼」！　美女醫：全家人都看見...\n",
      "2020/03/17 20:03\t3～6月原本都要出國玩！　丫頭一口氣取消4行程：損失一筆錢，比不上失去身邊愛的人\n",
      "2020/03/17 20:03\t拜登拼民主黨初選　提拔女副總統、非裔女性登最高法院\n",
      "2020/03/17 20:00\t團體夜闖台北明星高中「拍性愛片」！他爆料：這是我們班　苦主現身\n"
     ]
    }
   ],
   "source": [
    "for d in soup.find(class_='part_list_2').find_all('h3'):\n",
    "    if d.span.text[:10]==date.replace('-','/')and d.span.text[11:13] in ('20','21','22'):\n",
    "        if d.span.text[14:16]<='59':\n",
    "            print(d.span.text+'\\t'+d.find('a').text)"
   ]
  },
  {
   "cell_type": "code",
   "execution_count": 32,
   "metadata": {},
   "outputs": [],
   "source": [
    "# 關閉瀏覽器\n",
    "browser.quit();"
   ]
  },
  {
   "cell_type": "code",
   "execution_count": null,
   "metadata": {},
   "outputs": [],
   "source": []
  }
 ],
 "metadata": {
  "kernelspec": {
   "display_name": "Python 3",
   "language": "python",
   "name": "python3"
  },
  "language_info": {
   "codemirror_mode": {
    "name": "ipython",
    "version": 3
   },
   "file_extension": ".py",
   "mimetype": "text/x-python",
   "name": "python",
   "nbconvert_exporter": "python",
   "pygments_lexer": "ipython3",
   "version": "3.7.4"
  }
 },
 "nbformat": 4,
 "nbformat_minor": 2
}
