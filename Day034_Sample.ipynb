{
 "cells": [
  {
   "cell_type": "markdown",
   "metadata": {},
   "source": [
    "# 反爬：代理伺服器/IP\n",
    "\n",
    "* 了解「IP 黑/白名單」的反爬蟲機制\n",
    "* 「IP 黑/白名單」反爬蟲的因應策略"
   ]
  },
  {
   "cell_type": "markdown",
   "metadata": {},
   "source": [
    "## 下載檔案"
   ]
  },
  {
   "cell_type": "code",
   "execution_count": 9,
   "metadata": {},
   "outputs": [],
   "source": [
    "from bs4 import BeautifulSoup\n",
    "import requests\n",
    "import random"
   ]
  },
  {
   "cell_type": "code",
   "execution_count": 12,
   "metadata": {},
   "outputs": [
    {
     "name": "stdout",
     "output_type": "stream",
     "text": [
      "Use 51.158.111.229:8811\n",
      "Your IP address: 51.158.111.229\n",
      "Use 51.158.99.51:8811\n",
      "Your IP address: 51.158.99.51\n",
      "Use 51.158.99.51:8811\n",
      "Your IP address: 51.158.99.51\n",
      "Use 51.158.111.229:8811\n",
      "Your IP address: 51.158.111.229\n",
      "Use 51.158.111.229:8811\n",
      "Your IP address: 51.158.111.229\n"
     ]
    }
   ],
   "source": [
    "\n",
    "proxy_ips = ['51.158.99.51:8811', '51.158.111.229:8811', '206.189.235.156:80', '68.183.105.214:8080']\n",
    "\n",
    "for i in range(5):\n",
    "    ip = random.choice(proxy_ips)\n",
    "    print('Use', ip)\n",
    "    resp = requests.get('http://ip.filefab.com/index.php',\n",
    "                        proxies={'http': ip})\n",
    "    soup = BeautifulSoup(resp.text, 'html5lib')\n",
    "    print(soup.find('h1', id='ipd').text.strip())\n"
   ]
  },
  {
   "cell_type": "markdown",
   "metadata": {},
   "source": [
    "## 作業目標\n",
    "\n",
    "* 目前程式中的 proxy_ips 是手動輸入的，請根據 https://free-proxy-list.net/ 寫一個可自動化抓取可用 Proxy 的 proxy_ips。\n",
    "\n",
    "\n",
    "\n"
   ]
  },
  {
   "cell_type": "code",
   "execution_count": 69,
   "metadata": {},
   "outputs": [
    {
     "name": "stdout",
     "output_type": "stream",
     "text": [
      "<Response [200]>\n"
     ]
    }
   ],
   "source": [
    "url='https://free-proxy-list.net/'\n",
    "r=requests.get(url)\n",
    "print(r)\n",
    "soup=BeautifulSoup(r.text,'html5lib')"
   ]
  },
  {
   "cell_type": "code",
   "execution_count": 65,
   "metadata": {
    "scrolled": true
   },
   "outputs": [
    {
     "data": {
      "text/plain": [
       "['118.69.50.154:80',\n",
       " '180.250.170.210:36031',\n",
       " '195.248.243.139:8080',\n",
       " '103.91.128.89:49914',\n",
       " '102.164.211.175:54436']"
      ]
     },
     "execution_count": 65,
     "metadata": {},
     "output_type": "execute_result"
    }
   ],
   "source": [
    "ip_lst=[]\n",
    "for i in soup.find('tbody').find_all('tr'):\n",
    "    ip=i.find('td').text\n",
    "    port=i.find_all('td')[1].text\n",
    "    ip_lst.append(i.find('td').text+':'+port)\n",
    "ip_lst[:5]"
   ]
  },
  {
   "cell_type": "code",
   "execution_count": 68,
   "metadata": {
    "scrolled": true
   },
   "outputs": [
    {
     "name": "stdout",
     "output_type": "stream",
     "text": [
      "Use 118.69.50.154:80 \n",
      " Your IP address: 210.245.110.254 \n",
      "\n",
      "Use 195.248.243.139:8080 \n",
      " Your IP address: 195.248.243.139 \n",
      "\n",
      "Use 190.103.178.13:8080 \n",
      " Your IP address: 190.103.178.13 \n",
      "\n",
      "Use 41.78.24.144:80 \n",
      " Your IP address: 41.78.26.155 \n",
      "\n",
      "Use 45.71.80.1:51460 \n",
      " Your IP address: 177.54.224.203 \n",
      "\n",
      "Use 80.51.169.0:35702 \n",
      " Your IP address: 195.117.107.150 \n",
      "\n"
     ]
    }
   ],
   "source": [
    "n=0\n",
    "\n",
    "for ip in ip_lst:\n",
    "    if n<6:\n",
    "        try:\n",
    "            resp = requests.get('http://ip.filefab.com/index.php',proxies={'http': ip})\n",
    "            soup = BeautifulSoup(resp.text, 'html5lib')\n",
    "            print('Use', ip,'\\n',soup.find('div',{'class':'maindivm'}).find('h1', id='ipd').text.strip(),'\\n')\n",
    "            n=n+1\n",
    "        except:\n",
    "            continue"
   ]
  },
  {
   "cell_type": "code",
   "execution_count": null,
   "metadata": {},
   "outputs": [],
   "source": []
  }
 ],
 "metadata": {
  "kernelspec": {
   "display_name": "Python 3",
   "language": "python",
   "name": "python3"
  },
  "language_info": {
   "codemirror_mode": {
    "name": "ipython",
    "version": 3
   },
   "file_extension": ".py",
   "mimetype": "text/x-python",
   "name": "python",
   "nbconvert_exporter": "python",
   "pygments_lexer": "ipython3",
   "version": "3.7.4"
  }
 },
 "nbformat": 4,
 "nbformat_minor": 2
}
