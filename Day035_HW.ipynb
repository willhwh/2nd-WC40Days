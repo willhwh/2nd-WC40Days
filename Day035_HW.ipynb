{
 "cells": [
  {
   "cell_type": "markdown",
   "metadata": {},
   "source": [
    "# 加速：多線程爬蟲\n",
    "\n",
    "\n",
    "\n",
    "* 了解知乎 API 使用方式與回傳內容\n",
    "* 撰寫程式存取 API 且添加標頭"
   ]
  },
  {
   "cell_type": "markdown",
   "metadata": {},
   "source": [
    "## Python 中的多線程"
   ]
  },
  {
   "cell_type": "code",
   "execution_count": 1,
   "metadata": {},
   "outputs": [
    {
     "data": {
      "text/plain": [
       "123145491259392"
      ]
     },
     "execution_count": 1,
     "metadata": {},
     "output_type": "execute_result"
    }
   ],
   "source": [
    "import _thread\n",
    "import time\n",
    "\n",
    "def print_time( threadName, data, delay):\n",
    "    for d in data:\n",
    "        time.sleep(delay)\n",
    "        print(threadName, ' => ', d)\n",
    "\n",
    "_thread.start_new_thread( print_time, (\"Thread-1\", range(0, 5, 2), 2, ) )\n",
    "_thread.start_new_thread( print_time, (\"Thread-2\", range(1, 5, 2), 5, ) )\n"
   ]
  },
  {
   "cell_type": "markdown",
   "metadata": {},
   "source": [
    "## 多線程爬蟲\n"
   ]
  },
  {
   "cell_type": "code",
   "execution_count": 2,
   "metadata": {},
   "outputs": [
    {
     "name": "stdout",
     "output_type": "stream",
     "text": [
      "Thread-1  =>  0\n",
      "1.1034669876098633\n",
      "Thread-1  =>  2\n",
      "Thread-2  =>  1\n",
      "Thread-1  =>  4\n",
      "Thread-2  =>  3\n"
     ]
    }
   ],
   "source": [
    "import requests\n",
    "import time\n",
    "\n",
    "urls = ['http://python.org', 'http://python.org', 'http://python.org',\n",
    "        'http://python.org', 'http://python.org']\n",
    "\n",
    "startTime = time.time()\n",
    "\n",
    "for url in urls:\n",
    "    requests.get(url)\n",
    "\n",
    "finishTime = time.time()\n",
    "print(finishTime - startTime) # 正常情況的爬蟲所需時間"
   ]
  },
  {
   "cell_type": "code",
   "execution_count": 3,
   "metadata": {},
   "outputs": [
    {
     "name": "stdout",
     "output_type": "stream",
     "text": [
      "0.00023102760314941406\n"
     ]
    }
   ],
   "source": [
    "import requests\n",
    "import _thread\n",
    "import time\n",
    "\n",
    "urls = ['http://python.org', 'http://python.org', 'http://python.org',\n",
    "        'http://python.org', 'http://python.org']\n",
    "\n",
    "startTime = time.time()\n",
    "\n",
    "for url in urls:\n",
    "    _thread.start_new_thread( requests.get, (url, ) )\n",
    "\n",
    "finishTime = time.time()\n",
    "print(finishTime - startTime) # 利用 thread 的爬蟲所需時間"
   ]
  },
  {
   "cell_type": "markdown",
   "metadata": {},
   "source": [
    "## 作業目標\n",
    "\n",
    "* 找一個之前實作過的爬蟲改用多線程改寫，比較前後時間的差異。\n",
    "\n",
    "\n",
    "\n"
   ]
  },
  {
   "cell_type": "code",
   "execution_count": 4,
   "metadata": {},
   "outputs": [],
   "source": [
    "import requests\n",
    "from bs4 import BeautifulSoup\n",
    "import re\n",
    "import os\n",
    "import csv\n",
    "import time\n",
    "import random\n",
    "import pandas as pd"
   ]
  },
  {
   "cell_type": "code",
   "execution_count": 5,
   "metadata": {},
   "outputs": [],
   "source": [
    "url='https://bulbapedia.bulbagarden.net/wiki/List_of_Pokémon_by_National_Pokédex_number'\n",
    "r=requests.get(url)\n",
    "r.encoding = 'utf-8'\n",
    "soup=BeautifulSoup(r.text,\"html5lib\")"
   ]
  },
  {
   "cell_type": "code",
   "execution_count": 6,
   "metadata": {},
   "outputs": [],
   "source": [
    "link_list=[]\n",
    "for i in soup.find('div',{'id':'mw-content-text'}).find_all('tr',{\"style\":\"background:#FFF\"})[:50]:\n",
    "\n",
    "    #link to specific attr\n",
    "    link='https://bulbapedia.bulbagarden.net/'+i.find_all('a',\n",
    "                                                          href=re.compile(\"^(/wiki/)((?!;)\\S)*$\"))[1]['href']\n",
    "    #print('Link: ',link)   \n",
    "    link_list.append(link)\n",
    "    \n",
    "    #get specific attr for a pokemon"
   ]
  },
  {
   "cell_type": "code",
   "execution_count": 18,
   "metadata": {},
   "outputs": [],
   "source": [
    "n=0\n",
    "def parse_t(link):\n",
    "    url_pkm=link\n",
    "    r_pkm=requests.get(url_pkm)\n",
    "    r_pkm.encoding = 'utf-8'\n",
    "    soup_pkm=BeautifulSoup(r_pkm.text,\"html5lib\")\n",
    "    pokemon_data=[]\n",
    "    try:\n",
    "        #hp\n",
    "        hp=soup_pkm.find('tr',{'style':\"background: #FF5959; text-align:center\"}).find('div',{'style':'float:right'}).text\n",
    "        #print(\"HP: \",hp) \n",
    "        pokemon_data.append(hp)\n",
    "        #atk\n",
    "        atk=soup_pkm.find('tr',{'style':\"background: #F5AC78; text-align:center\"}).find('div',{'style':'float:right'}).text\n",
    "        #print(\"ATK: \",atk) \n",
    "        pokemon_data.append(atk)\n",
    "        #def\n",
    "        defense=soup_pkm.find('tr',{'style':\"background: #FAE078; text-align:center\"}).find('div',{'style':'float:right'}).text\n",
    "        #print(\"DEF: \",defense)\n",
    "        pokemon_data.append(defense)\n",
    "        #sp_atk\n",
    "        sp_atk=soup_pkm.find('tr',{'style':\"background: #9DB7F5; text-align:center\"}).find('div',{'style':'float:right'}).text\n",
    "        #print(\"SP_ATK: \",sp_atk)  \n",
    "        pokemon_data.append(sp_atk)\n",
    "        #sp_def\n",
    "        sp_defense=soup_pkm.find('tr',{'style':\"background: #A7DB8D; text-align:center\"}).find('div',{'style':'float:right'}).text\n",
    "        #print(\"SP_DEF: \",sp_defense)\n",
    "        pokemon_data.append(sp_defense)\n",
    "        #spd\n",
    "        spd=soup_pkm.find('tr',{'style':\"background: #FA92B2; text-align:center\"}).find('div',{'style':'float:right'}).text\n",
    "        #print(\"SPD: \",spd)\n",
    "        pokemon_data.append(spd)\n",
    "\n",
    "        \n",
    "        #type_effectiveness\n",
    "        type_effectiveness=soup_pkm.find('table',{'class':'roundy','width':'100%','align':'center'}) \n",
    "        #get four dimentions \n",
    "        normal=type_effectiveness.find_all('table',{'class':'roundy','width':'100%','align':'center'})[1]\n",
    "        weak=type_effectiveness.find_all('table',{'class':'roundy','width':'100%','align':'center'})[2]\n",
    "        immue=type_effectiveness.find_all('table',{'class':'roundy','width':'100%','align':'center'})[3]\n",
    "        resisant=type_effectiveness.find_all('table',{'class':'roundy','width':'100%','align':'center'})[4]\n",
    "        #create list for each dimention\n",
    "        normal_lst=[]\n",
    "        weak_lst=[]\n",
    "        immue_lst=[]\n",
    "        resisant_lst=[]\n",
    "    \n",
    "    \n",
    "        #get data into each list and write\n",
    "        #Damaged Normally by\n",
    "        for j in normal.find_all('span',{'style':'display:inline-block;'}):\n",
    "            normal_lst.append(j.text.replace('\\n','').strip().replace(' ','_'))\n",
    "        #print('Damaged Normally by :',normal_lst)\n",
    "        pokemon_data.append(str(normal_lst))\n",
    "    \n",
    "    \n",
    "        #Weak to\n",
    "        for j in weak.find_all('span',{'style':'display:inline-block;'}):\n",
    "            weak_lst.append(j.text.replace('\\n','').strip().replace(' ','_'))\n",
    "        #print('Weak to :',weak_lst)\n",
    "        pokemon_data.append(str(weak_lst))\n",
    "    \n",
    "    \n",
    "        #Immue to\n",
    "        for j in immue.find_all('span',{'style':'display:inline-block;'}):\n",
    "            immue_lst.append(j.text.replace('\\n','').strip().replace(' ','_'))\n",
    "        #print('Immue to :',immue_lst)\n",
    "        pokemon_data.append(str(immue_lst))\n",
    "    \n",
    "    \n",
    "        #Resisant to\n",
    "        for j in resisant.find_all('span',{'style':'display:inline-block;'}):\n",
    "            resisant_lst.append(j.text.replace('\\n','').strip().replace(' ','_'))\n",
    "        #print('Resisant to :',resisant_lst)\n",
    "        pokemon_data.append(str(resisant_lst))\n",
    "        print('Done!!!')\n",
    "    \n",
    "        with open('/users/mac/0517.csv', 'a', newline='') as file:\n",
    "            writer = csv.writer(file, delimiter=',')\n",
    "            global n\n",
    "            n=n+1\n",
    "            writer.writerow(pokemon_data)\n",
    "    \n",
    "    except:\n",
    "        pass\n"
   ]
  },
  {
   "cell_type": "code",
   "execution_count": 19,
   "metadata": {},
   "outputs": [],
   "source": [
    "n=0\n",
    "def test():\n",
    "    with open('/users/mac/0517.csv', 'a', newline='') as file:\n",
    "        writer = csv.writer(file, delimiter=',')\n",
    "        global n\n",
    "        n=n+1\n",
    "        writer.writerow([n]) \n",
    "for i in range(10):\n",
    "    _thread.start_new_thread( test,() )"
   ]
  },
  {
   "cell_type": "markdown",
   "metadata": {},
   "source": [
    "# 多線所需時間"
   ]
  },
  {
   "cell_type": "code",
   "execution_count": 26,
   "metadata": {},
   "outputs": [
    {
     "name": "stdout",
     "output_type": "stream",
     "text": [
      "0.0028018951416015625\n"
     ]
    }
   ],
   "source": [
    "startTime=time.time()\n",
    "for i in link_list[:]:\n",
    "    _thread.start_new_thread( parse_t,(i,) )\n",
    "\n",
    "finishTime = time.time()\n",
    "print(finishTime - startTime) # "
   ]
  },
  {
   "cell_type": "markdown",
   "metadata": {},
   "source": [
    "# 正常所需時間"
   ]
  },
  {
   "cell_type": "code",
   "execution_count": 25,
   "metadata": {},
   "outputs": [
    {
     "name": "stdout",
     "output_type": "stream",
     "text": [
      "Done!!!\n",
      "68.32529616355896\n"
     ]
    }
   ],
   "source": [
    "#arrange data\n",
    "counter=0 #counter\n",
    "startTime = time.time()\n",
    "n=0\n",
    "for i in link_list:\n",
    "    \n",
    "    #get specific attr for a pokemon\n",
    "    url_pkm=i\n",
    "    r_pkm=requests.get(url_pkm)\n",
    "    r_pkm.encoding = 'utf-8'\n",
    "    soup_pkm=BeautifulSoup(r_pkm.text,\"html5lib\")\n",
    "\n",
    "    try:\n",
    "        #hp\n",
    "        hp=soup_pkm.find('tr',{'style':\"background: #FF5959; text-align:center\"}).find('div',{'style':'float:right'}).text\n",
    "        #print(\"HP: \",hp) \n",
    "        pokemon_data.append(hp)\n",
    "        #atk\n",
    "        atk=soup_pkm.find('tr',{'style':\"background: #F5AC78; text-align:center\"}).find('div',{'style':'float:right'}).text\n",
    "        #print(\"ATK: \",atk) \n",
    "        pokemon_data.append(atk)\n",
    "        #def\n",
    "        defense=soup_pkm.find('tr',{'style':\"background: #FAE078; text-align:center\"}).find('div',{'style':'float:right'}).text\n",
    "        #print(\"DEF: \",defense)\n",
    "        pokemon_data.append(defense)\n",
    "        #sp_atk\n",
    "        sp_atk=soup_pkm.find('tr',{'style':\"background: #9DB7F5; text-align:center\"}).find('div',{'style':'float:right'}).text\n",
    "        #print(\"SP_ATK: \",sp_atk)  \n",
    "        pokemon_data.append(sp_atk)\n",
    "        #sp_def\n",
    "        sp_defense=soup_pkm.find('tr',{'style':\"background: #A7DB8D; text-align:center\"}).find('div',{'style':'float:right'}).text\n",
    "        #print(\"SP_DEF: \",sp_defense)\n",
    "        pokemon_data.append(sp_defense)\n",
    "        #spd\n",
    "        spd=soup_pkm.find('tr',{'style':\"background: #FA92B2; text-align:center\"}).find('div',{'style':'float:right'}).text\n",
    "        #print(\"SPD: \",spd)\n",
    "        pokemon_data.append(spd)\n",
    "\n",
    "        \n",
    "        #type_effectiveness\n",
    "        type_effectiveness=soup_pkm.find('table',{'class':'roundy','width':'100%','align':'center'}) \n",
    "        #get four dimentions \n",
    "        normal=type_effectiveness.find_all('table',{'class':'roundy','width':'100%','align':'center'})[1]\n",
    "        weak=type_effectiveness.find_all('table',{'class':'roundy','width':'100%','align':'center'})[2]\n",
    "        immue=type_effectiveness.find_all('table',{'class':'roundy','width':'100%','align':'center'})[3]\n",
    "        resisant=type_effectiveness.find_all('table',{'class':'roundy','width':'100%','align':'center'})[4]\n",
    "        #create list for each dimention\n",
    "        normal_lst=[]\n",
    "        weak_lst=[]\n",
    "        immue_lst=[]\n",
    "        resisant_lst=[]\n",
    "    \n",
    "    \n",
    "        #get data into each list and write\n",
    "        #Damaged Normally by\n",
    "        for j in normal.find_all('span',{'style':'display:inline-block;'}):\n",
    "            normal_lst.append(j.text.replace('\\n','').strip().replace(' ','_'))\n",
    "        #print('Damaged Normally by :',normal_lst)\n",
    "        pokemon_data.append(str(normal_lst))\n",
    "    \n",
    "    \n",
    "        #Weak to\n",
    "        for j in weak.find_all('span',{'style':'display:inline-block;'}):\n",
    "            weak_lst.append(j.text.replace('\\n','').strip().replace(' ','_'))\n",
    "        #print('Weak to :',weak_lst)\n",
    "        pokemon_data.append(str(weak_lst))\n",
    "    \n",
    "    \n",
    "        #Immue to\n",
    "        for j in immue.find_all('span',{'style':'display:inline-block;'}):\n",
    "            immue_lst.append(j.text.replace('\\n','').strip().replace(' ','_'))\n",
    "        #print('Immue to :',immue_lst)\n",
    "        pokemon_data.append(str(immue_lst))\n",
    "    \n",
    "    \n",
    "        #Resisant to\n",
    "        for j in resisant.find_all('span',{'style':'display:inline-block;'}):\n",
    "            resisant_lst.append(j.text.replace('\\n','').strip().replace(' ','_'))\n",
    "        #print('Resisant to :',resisant_lst)\n",
    "        pokemon_data.append(str(resisant_lst))\n",
    "    \n",
    "    \n",
    "        n=n+1\n",
    "        print(n)\n",
    "    except:\n",
    "        continue\n",
    "\n",
    "print('Done!!!')\n",
    "finishTime = time.time()\n",
    "print(finishTime - startTime) # 正常情況的爬蟲所需時間"
   ]
  }
 ],
 "metadata": {
  "kernelspec": {
   "display_name": "Python 3",
   "language": "python",
   "name": "python3"
  },
  "language_info": {
   "codemirror_mode": {
    "name": "ipython",
    "version": 3
   },
   "file_extension": ".py",
   "mimetype": "text/x-python",
   "name": "python",
   "nbconvert_exporter": "python",
   "pygments_lexer": "ipython3",
   "version": "3.7.4"
  }
 },
 "nbformat": 4,
 "nbformat_minor": 2
}
